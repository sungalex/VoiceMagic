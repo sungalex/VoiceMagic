{
 "cells": [
  {
   "cell_type": "markdown",
   "metadata": {
    "toc": true
   },
   "source": [
    "<h1>Table of Contents<span class=\"tocSkip\"></span></h1>\n",
    "<div class=\"toc\"><ul class=\"toc-item\"><li><span><a href=\"#Google-Cloud-Speech-to-Text-API-Quick-Start-example\" data-toc-modified-id=\"Google-Cloud-Speech-to-Text-API-Quick-Start-example-1\">Google Cloud Speech-to-Text API Quick-Start example</a></span></li></ul></div>"
   ]
  },
  {
   "cell_type": "markdown",
   "metadata": {},
   "source": [
    "# Google Cloud Speech-to-Text API Quick-Start example"
   ]
  },
  {
   "cell_type": "markdown",
   "metadata": {},
   "source": [
    "- Google Cloud Speech-to-Text API를 이용한 음성인식 샘플(Quick Start)\n",
    "- https://cloud.google.com/speech-to-text/docs/quickstart-client-libraries\n",
    "-  google.cloud.speech.SpeechClient().**recognize(config, audio) : 1분 이내 파일만 지원**"
   ]
  },
  {
   "cell_type": "code",
   "execution_count": 1,
   "metadata": {},
   "outputs": [],
   "source": [
    "import io\n",
    "import os\n",
    "\n",
    "# Imports the Google Cloud client library\n",
    "from google.cloud import speech\n",
    "from google.cloud.speech import enums\n",
    "from google.cloud.speech import types"
   ]
  },
  {
   "cell_type": "code",
   "execution_count": 2,
   "metadata": {},
   "outputs": [],
   "source": [
    "# Instantiates a client\n",
    "client = speech.SpeechClient()"
   ]
  },
  {
   "cell_type": "code",
   "execution_count": 3,
   "metadata": {},
   "outputs": [],
   "source": [
    "# Loads the audio into memory\n",
    "file_name = os.path.join(os.getcwd(),\n",
    "        'audio_file', '홍콩행정장관사퇴거부_1명인터뷰_YTN_44100.wav')\n",
    "\n",
    "with io.open(file_name, 'rb') as audio_file:\n",
    "    content = audio_file.read()\n",
    "\n",
    "audio = types.RecognitionAudio(content=content)\n",
    "\n",
    "config = types.RecognitionConfig(\n",
    "    encoding=enums.RecognitionConfig.AudioEncoding.LINEAR16,\n",
    "    sample_rate_hertz=44100,\n",
    "    language_code='ko-KR')"
   ]
  },
  {
   "cell_type": "code",
   "execution_count": 4,
   "metadata": {},
   "outputs": [],
   "source": [
    "# Detects speech in the audio file\n",
    "response = client.recognize(config, audio)"
   ]
  },
  {
   "cell_type": "code",
   "execution_count": 5,
   "metadata": {},
   "outputs": [
    {
     "name": "stdout",
     "output_type": "stream",
     "text": [
      "Transcript: 범죄인인도법 안 1명 총 헌법주의 반대 가는 홍콩 시민들의 대규모 시위가 더 커 가면서 홍콩 행정장관에 공개사과를 끌어냈습니다 캐리랑 행정 장관은 어제 오후 창녕에서 정보 업무에 부족함이 있었으면 인정한다며 홍콩 사회 모순과 분재기 나타나게 하고 시민들을 실망하게 한데 내가 다 와 간다고 밝혔습니다 거는 정부가 시민들의 강력한 이겨내고 력을 소환법 업무를 중단했으며 향후 입법활동을 재개설 시간표를 가지고 있지 않다고 강조했습니다 아울러 최대화 대성이를 다 갖고 비판을 겸허의 수용하면서 더욱 많은 시민들을 위해 일 하겠다며 사퇴할 뜻이 없음을 확인했습니다\n"
     ]
    }
   ],
   "source": [
    "for result in response.results:\n",
    "    print('Transcript: {}'.format(result.alternatives[0].transcript))"
   ]
  },
  {
   "cell_type": "code",
   "execution_count": 6,
   "metadata": {},
   "outputs": [
    {
     "data": {
      "text/plain": [
       "google.cloud.speech_v1.types.RecognizeResponse"
      ]
     },
     "execution_count": 6,
     "metadata": {},
     "output_type": "execute_result"
    }
   ],
   "source": [
    "type(response)"
   ]
  },
  {
   "cell_type": "code",
   "execution_count": 7,
   "metadata": {},
   "outputs": [
    {
     "name": "stdout",
     "output_type": "stream",
     "text": [
      "results {\n",
      "  alternatives {\n",
      "    transcript: \"\\353\\262\\224\\354\\243\\204\\354\\235\\270\\354\\235\\270\\353\\217\\204\\353\\262\\225 \\354\\225\\210 1\\353\\252\\205 \\354\\264\\235 \\355\\227\\214\\353\\262\\225\\354\\243\\274\\354\\235\\230 \\353\\260\\230\\353\\214\\200 \\352\\260\\200\\353\\212\\224 \\355\\231\\215\\354\\275\\251 \\354\\213\\234\\353\\257\\274\\353\\223\\244\\354\\235\\230 \\353\\214\\200\\352\\267\\234\\353\\252\\250 \\354\\213\\234\\354\\234\\204\\352\\260\\200 \\353\\215\\224 \\354\\273\\244 \\352\\260\\200\\353\\251\\264\\354\\204\\234 \\355\\231\\215\\354\\275\\251 \\355\\226\\211\\354\\240\\225\\354\\236\\245\\352\\264\\200\\354\\227\\220 \\352\\263\\265\\352\\260\\234\\354\\202\\254\\352\\263\\274\\353\\245\\274 \\353\\201\\214\\354\\226\\264\\353\\203\\210\\354\\212\\265\\353\\213\\210\\353\\213\\244 \\354\\272\\220\\353\\246\\254\\353\\236\\221 \\355\\226\\211\\354\\240\\225 \\354\\236\\245\\352\\264\\200\\354\\235\\200 \\354\\226\\264\\354\\240\\234 \\354\\230\\244\\355\\233\\204 \\354\\260\\275\\353\\205\\225\\354\\227\\220\\354\\204\\234 \\354\\240\\225\\353\\263\\264 \\354\\227\\205\\353\\254\\264\\354\\227\\220 \\353\\266\\200\\354\\241\\261\\355\\225\\250\\354\\235\\264 \\354\\236\\210\\354\\227\\210\\354\\234\\274\\353\\251\\264 \\354\\235\\270\\354\\240\\225\\355\\225\\234\\353\\213\\244\\353\\251\\260 \\355\\231\\215\\354\\275\\251 \\354\\202\\254\\355\\232\\214 \\353\\252\\250\\354\\210\\234\\352\\263\\274 \\353\\266\\204\\354\\236\\254\\352\\270\\260 \\353\\202\\230\\355\\203\\200\\353\\202\\230\\352\\262\\214 \\355\\225\\230\\352\\263\\240 \\354\\213\\234\\353\\257\\274\\353\\223\\244\\354\\235\\204 \\354\\213\\244\\353\\247\\235\\355\\225\\230\\352\\262\\214 \\355\\225\\234\\353\\215\\260 \\353\\202\\264\\352\\260\\200 \\353\\213\\244 \\354\\231\\200 \\352\\260\\204\\353\\213\\244\\352\\263\\240 \\353\\260\\235\\355\\230\\224\\354\\212\\265\\353\\213\\210\\353\\213\\244 \\352\\261\\260\\353\\212\\224 \\354\\240\\225\\353\\266\\200\\352\\260\\200 \\354\\213\\234\\353\\257\\274\\353\\223\\244\\354\\235\\230 \\352\\260\\225\\353\\240\\245\\355\\225\\234 \\354\\235\\264\\352\\262\\250\\353\\202\\264\\352\\263\\240 \\353\\240\\245\\354\\235\\204 \\354\\206\\214\\355\\231\\230\\353\\262\\225 \\354\\227\\205\\353\\254\\264\\353\\245\\274 \\354\\244\\221\\353\\213\\250\\355\\226\\210\\354\\234\\274\\353\\251\\260 \\355\\226\\245\\355\\233\\204 \\354\\236\\205\\353\\262\\225\\355\\231\\234\\353\\217\\231\\354\\235\\204 \\354\\236\\254\\352\\260\\234\\354\\204\\244 \\354\\213\\234\\352\\260\\204\\355\\221\\234\\353\\245\\274 \\352\\260\\200\\354\\247\\200\\352\\263\\240 \\354\\236\\210\\354\\247\\200 \\354\\225\\212\\353\\213\\244\\352\\263\\240 \\352\\260\\225\\354\\241\\260\\355\\226\\210\\354\\212\\265\\353\\213\\210\\353\\213\\244 \\354\\225\\204\\354\\232\\270\\353\\237\\254 \\354\\265\\234\\353\\214\\200\\355\\231\\224 \\353\\214\\200\\354\\204\\261\\354\\235\\264\\353\\245\\274 \\353\\213\\244 \\352\\260\\226\\352\\263\\240 \\353\\271\\204\\355\\214\\220\\354\\235\\204 \\352\\262\\270\\355\\227\\210\\354\\235\\230 \\354\\210\\230\\354\\232\\251\\355\\225\\230\\353\\251\\264\\354\\204\\234 \\353\\215\\224\\354\\232\\261 \\353\\247\\216\\354\\235\\200 \\354\\213\\234\\353\\257\\274\\353\\223\\244\\354\\235\\204 \\354\\234\\204\\355\\225\\264 \\354\\235\\274 \\355\\225\\230\\352\\262\\240\\353\\213\\244\\353\\251\\260 \\354\\202\\254\\355\\207\\264\\355\\225\\240 \\353\\234\\273\\354\\235\\264 \\354\\227\\206\\354\\235\\214\\354\\235\\204 \\355\\231\\225\\354\\235\\270\\355\\226\\210\\354\\212\\265\\353\\213\\210\\353\\213\\244\"\n",
      "    confidence: 0.9005505442619324\n",
      "  }\n",
      "}\n",
      "\n"
     ]
    }
   ],
   "source": [
    "print(response)    # results {alternatives {transcript: \"\", confidence: \"\"}}"
   ]
  },
  {
   "cell_type": "code",
   "execution_count": null,
   "metadata": {},
   "outputs": [],
   "source": []
  }
 ],
 "metadata": {
  "kernelspec": {
   "display_name": "Python 3",
   "language": "python",
   "name": "python3"
  },
  "language_info": {
   "codemirror_mode": {
    "name": "ipython",
    "version": 3
   },
   "file_extension": ".py",
   "mimetype": "text/x-python",
   "name": "python",
   "nbconvert_exporter": "python",
   "pygments_lexer": "ipython3",
   "version": "3.7.1"
  },
  "latex_envs": {
   "LaTeX_envs_menu_present": true,
   "autoclose": false,
   "autocomplete": true,
   "bibliofile": "biblio.bib",
   "cite_by": "apalike",
   "current_citInitial": 1,
   "eqLabelWithNumbers": true,
   "eqNumInitial": 1,
   "hotkeys": {
    "equation": "Ctrl-E",
    "itemize": "Ctrl-I"
   },
   "labels_anchors": false,
   "latex_user_defs": false,
   "report_style_numbering": false,
   "user_envs_cfg": false
  },
  "toc": {
   "base_numbering": 1,
   "nav_menu": {},
   "number_sections": false,
   "sideBar": true,
   "skip_h1_title": false,
   "title_cell": "Table of Contents",
   "title_sidebar": "Contents",
   "toc_cell": true,
   "toc_position": {},
   "toc_section_display": true,
   "toc_window_display": false
  }
 },
 "nbformat": 4,
 "nbformat_minor": 2
}

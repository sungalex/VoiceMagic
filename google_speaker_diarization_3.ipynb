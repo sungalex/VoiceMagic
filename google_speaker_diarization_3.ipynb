{
 "cells": [
  {
   "cell_type": "markdown",
   "metadata": {
    "toc": true
   },
   "source": [
    "<h1>Table of Contents<span class=\"tocSkip\"></span></h1>\n",
    "<div class=\"toc\"><ul class=\"toc-item\"></ul></div>"
   ]
  },
  {
   "cell_type": "code",
   "execution_count": 5,
   "metadata": {},
   "outputs": [],
   "source": [
    "import io\n",
    "import os\n",
    "\n",
    "from google.cloud import speech_v1p1beta1 as speech\n",
    "\n",
    "client = speech.SpeechClient()\n",
    "\n",
    "stream_file = os.path.join(os.getcwd(), 'audio_file', 'bong_interview_YTN_16000.wav')    # jupyter notebook korean file_name error\n",
    "\n",
    "with io.open(stream_file, 'rb') as audio_file:\n",
    "        content = audio_file.read()\n",
    "\n",
    "# In practice, stream should be a generator yielding chunks of audio data.\n",
    "stream = [content]\n",
    "\n",
    "requests = (speech.types.StreamingRecognizeRequest(audio_content=chunk)\n",
    "            for chunk in stream)\n",
    "\n",
    "config = speech.types.RecognitionConfig(\n",
    "    encoding=speech.enums.RecognitionConfig.AudioEncoding.LINEAR16,\n",
    "    sample_rate_hertz=16000,\n",
    "    language_code='ko-KR',\n",
    "    enable_speaker_diarization=True,\n",
    "    diarization_speaker_count=3,\n",
    "    model='default')\n",
    "\n",
    "streaming_config = speech.types.StreamingRecognitionConfig(config=config)\n",
    "\n",
    "# streaming_recognize returns a generator.\n",
    "responses = client.streaming_recognize(streaming_config, requests)"
   ]
  },
  {
   "cell_type": "code",
   "execution_count": 6,
   "metadata": {},
   "outputs": [
    {
     "data": {
      "text/plain": [
       "google.api_core.grpc_helpers._StreamingResponseIterator"
      ]
     },
     "execution_count": 6,
     "metadata": {},
     "output_type": "execute_result"
    }
   ],
   "source": [
    "type(responses)"
   ]
  },
  {
   "cell_type": "code",
   "execution_count": 7,
   "metadata": {},
   "outputs": [
    {
     "name": "stdout",
     "output_type": "stream",
     "text": [
      "Finished: True\n",
      "Stability: 0.0\n",
      "Confidence: 0.8917887806892395\n",
      "Transcript: 출장을 또 고생했지만 아직 팀장과의 면담은 남아있는 상태지만 이번에 깜찍 성에 대해서 좀 소개를 해 주죠네 한국영화가 100주년을 기념하는 해인데요 올해가 겹경사를 맞았어요 우리나라 영화 중에 유일하게 칸 영화제 경쟁부문에 진출한 영화 기생충이 최고상인 황금종려상을 받은 건데요 그 역사적인 현장에 있었기 때문에 현장 분위기와 함께 보고들은 것 좀 낱낱이 설명해 드리려고 합니다 시상식대상 성을 해 달라는 요청을 받았기 때문에 약간 기대하는 분위기가 있었을 것 같은데 어땠어요 시상식에 참석해 달라는 말이 곧 다시 꺼내 들었다라는 말과 똑같거든요 칸영화제에서는 이게 우리나라의 같은 경우는 시상식에 참석한다고 해서 모든 이들에게 상을주지 많잖아요네 칸 영화제는 시험 시계 좀 참석해 달라 이렇게 얘기를 하면 나도 하나 받겠구나\n",
      "1 1 1 1 1 1 1 1 1 1 1 1 1 1 1 1 1 1 1 1 1 1 1 1 1 1 1 1 1 1 1 1 1 1 1 1 1 1 1 1 1 1 1 1 1 1 1 1 1 1 1 1 1 1 1 1 1 1 1 1 1 1 1 1 1 1 1 1 1 1 1 1 1 1 1 1 1 1 1 1 1 1 1 1 1 1 1 1 1 1 1 1 1 1 1 1 1 1 1 1 1 1 1 1 1 1 1 \n",
      "Finished: True\n",
      "Stability: 0.0\n",
      "Confidence: 0.9157878160476685\n",
      "Transcript: 기대를 해도 되는 그런 또 독특한 점은 관례가 있어요 송강호 씨한테 제가 직접 들어보니까 정오부터 1시 사이에 연락이 온다고 하는데 12시 41분 쯤에 연락이 없다고 해요 40분 동안이 본인에게 굉장히 피말리는 순간이었다 이렇게 얘기해도 했었고요 그렇기 때문에 일단 그렇게 알고 나서는 어떤 이제 상을 받을 것인가 그거에 대해서 좀 많이 이제 기자들도 그렇고 많이 집중을 하게 되었던 거 같아요 황금종려상으로 사실을 뽑힐 거라고 예상을 했었나요 지난 21일 리미 에르 극장에서 처음으로 배를 벗었는데 당시부터 좀 심상치 않게는 사실 했습니다 상영 중에 이례적으로 개빡 3번 가는 박수갈채가 나왔었는데요 그 어떤 장면에서 그렇게 영화 상영 중에 박스가방 왔죠 전반적으로 보면 영화 1부와 2부로 나누어 좀게 중요한 거지 분기점이 되는 장면이 있어요 근데 좀 되게 돋보이는 그런 장면인데 그 장면을 끝나고 나자마자 정말 궁금한데 직소를 박수가 터져 나오고\n",
      "1 1 1 1 1 1 1 1 1 1 1 1 1 1 1 1 1 1 1 1 1 1 1 1 1 1 1 1 1 1 1 1 1 1 1 1 1 1 1 1 1 1 1 1 1 1 1 1 1 1 1 1 1 1 1 1 1 1 1 1 1 1 1 1 1 1 1 1 1 1 1 1 1 1 1 1 1 1 1 1 1 1 1 1 1 1 1 1 1 1 1 1 1 1 1 1 1 1 1 1 1 1 1 1 1 1 1 1 1 1 1 1 1 1 1 1 1 1 1 1 1 1 1 1 1 1 1 1 1 1 1 1 1 1 1 1 1 1 1 1 1 1 1 1 1 1 1 1 1 1 1 1 1 1 1 1 1 1 1 1 1 1 1 1 1 1 1 1 1 1 1 1 1 1 1 1 1 1 1 1 1 1 1 1 1 1 1 1 1 1 1 1 1 1 1 1 1 1 1 1 1 1 1 1 1 1 1 1 1 1 1 1 1 1 1 1 1 1 1 1 1 1 1 1 1 1 1 1 1 1 1 1 1 1 1 1 \n",
      "Finished: True\n",
      "Stability: 0.0\n",
      "Confidence: 0.9106543660163879\n",
      "Transcript: 네가 멍청한 것도 아닌데 상영 후에도 약 8분간 기립박수가 있었고 이후에 이제 현재 매체들에 반응도 굉장히 좋았기 때문에 그런 부분에서 봤을 때 조금 잘 하면 탈 수도 있지 않을까 이런 반응들이 현지에서는 좀 많이 있었습니다 기립박수가 굉장히 길어져서 김감독의 집에 가자라고 이렇게 말을 했다고 하는데 보통 이제 칸에서는 사실 의례적으로 나오는게 맞아요 사실 뭐 무조건 다 모든 작품을 박수를 치고 근데 자기가 좀 다르게 느꼈던 거네 봉감독은 기생충 작품의 경우에는 박수가 대표로 말씀 앞으로 갈까요 진짜 되게 정말 물어서 나오는 그럼 어떤 박순지 좀 2분이 보여 주실 수 있어요 형식적인 봤어요 봉준호 감독 왔다\n",
      "1 1 1 1 1 1 1 1 1 1 1 1 1 1 1 1 1 1 1 1 1 1 1 1 1 1 1 1 1 1 1 1 1 1 1 1 1 1 1 1 1 1 1 1 1 1 1 1 1 1 1 1 1 1 1 1 1 1 1 1 1 1 1 1 1 1 1 1 1 1 1 1 1 1 1 1 1 1 1 1 1 1 1 1 1 1 1 1 1 1 1 1 1 1 1 1 1 1 1 1 1 1 1 1 1 1 1 1 1 1 1 1 1 1 1 1 1 1 1 1 1 1 1 1 1 1 1 1 1 1 1 1 1 1 1 1 1 1 1 1 1 1 1 1 1 1 1 1 1 1 1 1 1 1 1 1 1 1 1 1 1 1 1 1 1 1 1 1 1 1 1 1 1 1 1 1 1 1 1 1 1 1 1 1 1 1 1 1 1 1 1 1 1 1 1 1 1 1 1 1 1 1 1 1 1 1 1 1 1 1 1 1 1 1 1 1 1 1 1 1 1 1 1 1 1 1 1 1 1 1 1 1 1 1 1 1 1 1 1 1 1 1 1 1 1 1 1 1 1 1 1 1 1 1 1 1 1 1 1 1 1 1 1 1 1 1 1 1 1 1 1 1 1 1 1 1 1 1 1 1 1 1 1 1 1 1 1 1 1 1 1 1 1 1 1 1 1 1 1 1 1 1 1 1 1 1 1 1 1 1 1 1 1 1 1 1 1 1 1 1 1 1 1 1 1 1 1 1 1 1 1 \n",
      "Finished: True\n",
      "Stability: 0.0\n",
      "Confidence: 0.9104049801826477\n",
      "Transcript: 이후에는 65 기생충 배우라고 감독을 때 만날 기회가 있었네 썼던게 시상식에 끝나고 이제 수상자 기자회견 바로 직전에 봉준호 감독이랑 송광호배우가 직접 그 황금종려상 트로피를 들고 클래스룸 기자실에 왔어요 그 앞에서 근데 차분한 분이시거든요 그런데 이제 그 할머니 좀 흥분을 감추지 못 하면서 정말 한국 본 적 되면서 약간 내가 이제 다 맞다 아까 요런 느낌으로 들어 오시더라고요 어 이제 주변분들을 하이파이브도 하고 그때 열기가 느껴지는 굉장히 정도 좀 남달랐던 거 같아요 그 느낌 자체가 같이 기자들 같이 응원해주는 느낌을 받아서 더 좋은 결과가 있었던 거 같다면서 좀 기다려 살뜰히 챙기는 모습을 보여 줬어요 그래서 그런 부분도 인상깊은 장면이었습니다 여기다가 사실 첫 출장을 그것도 이번에 뉴스를 안고 잘 다녀 온 거 같아요\n",
      "1 1 1 1 1 1 1 1 1 1 1 1 1 1 1 1 1 1 1 1 1 1 1 1 1 1 1 1 1 1 1 1 1 1 1 1 1 1 1 1 1 1 1 1 1 1 1 1 1 1 1 1 1 1 1 1 1 1 1 1 1 1 1 1 1 1 1 1 1 1 1 1 1 1 1 1 1 1 1 1 1 1 1 1 1 1 1 1 1 1 1 1 1 1 1 1 1 1 1 1 1 1 1 1 1 1 1 1 1 1 1 1 1 1 1 1 1 1 1 1 1 1 1 1 1 1 1 1 1 1 1 1 1 1 1 1 1 1 1 1 1 1 1 1 1 1 1 1 1 1 1 1 1 1 1 1 1 1 1 1 1 1 1 1 1 1 1 1 1 1 1 1 1 1 1 1 1 1 1 1 1 1 1 1 1 1 1 1 1 1 1 1 1 1 1 1 1 1 1 1 1 1 1 1 1 1 1 1 1 1 1 1 1 1 1 1 1 1 1 1 1 1 1 1 1 1 1 1 1 1 1 1 1 1 1 1 1 1 1 1 1 1 1 1 1 1 1 1 1 1 1 1 1 1 1 1 1 1 1 1 1 1 1 1 1 1 1 1 1 1 1 1 1 1 1 1 1 1 1 1 1 1 1 1 1 1 1 1 1 1 1 1 1 1 1 1 1 1 1 1 1 1 1 1 1 1 1 1 1 1 1 1 1 1 1 1 1 1 1 1 1 1 1 1 1 1 1 1 1 1 1 1 1 1 1 1 1 1 1 1 1 1 1 1 1 1 1 1 1 1 1 1 1 1 1 1 1 1 1 1 1 1 1 1 1 1 1 1 1 1 1 1 1 1 1 1 1 1 1 1 1 1 1 1 1 1 1 1 1 1 1 1 1 1 1 1 1 1 1 1 1 1 1 1 1 1 1 1 1 1 1 1 1 1 1 1 1 1 1 1 1 1 1 1 1 1 1 1 1 1 1 1 1 1 1 1 1 1 1 1 1 1 1 1 1 \n"
     ]
    }
   ],
   "source": [
    "for response in responses:\n",
    "    # Once the transcription has settled, the first result will contain the\n",
    "    # is_final result. The other results will be for subsequent portions of\n",
    "    # the audio.\n",
    "\n",
    "    for result in response.results:\n",
    "        print('Finished: {}'.format(result.is_final))\n",
    "        print('Stability: {}'.format(result.stability))\n",
    "        alternatives = result.alternatives\n",
    "        # The alternatives are ordered from most likely to least.\n",
    "        for alternative in alternatives:\n",
    "            print('Confidence: {}'.format(alternative.confidence))\n",
    "            print(u'Transcript: {}'.format(alternative.transcript))\n",
    "            \n",
    "            for words in alternative.words:\n",
    "                print(words.speaker_tag, end=\" \")\n",
    "            print()"
   ]
  },
  {
   "cell_type": "code",
   "execution_count": 4,
   "metadata": {
    "scrolled": true
   },
   "outputs": [],
   "source": [
    "# speaker_tag가 존재하지만, 모두 1(한명)으로 되어 있음 => 화자 분리 안됨\n",
    "# for response in responses:\n",
    "#     for result in response.results:\n",
    "#         print(result)"
   ]
  },
  {
   "cell_type": "code",
   "execution_count": null,
   "metadata": {},
   "outputs": [],
   "source": []
  }
 ],
 "metadata": {
  "kernelspec": {
   "display_name": "Python 3",
   "language": "python",
   "name": "python3"
  },
  "language_info": {
   "codemirror_mode": {
    "name": "ipython",
    "version": 3
   },
   "file_extension": ".py",
   "mimetype": "text/x-python",
   "name": "python",
   "nbconvert_exporter": "python",
   "pygments_lexer": "ipython3",
   "version": "3.7.1"
  },
  "latex_envs": {
   "LaTeX_envs_menu_present": true,
   "autoclose": false,
   "autocomplete": true,
   "bibliofile": "biblio.bib",
   "cite_by": "apalike",
   "current_citInitial": 1,
   "eqLabelWithNumbers": true,
   "eqNumInitial": 1,
   "hotkeys": {
    "equation": "Ctrl-E",
    "itemize": "Ctrl-I"
   },
   "labels_anchors": false,
   "latex_user_defs": false,
   "report_style_numbering": false,
   "user_envs_cfg": false
  },
  "toc": {
   "base_numbering": 1,
   "nav_menu": {},
   "number_sections": false,
   "sideBar": true,
   "skip_h1_title": false,
   "title_cell": "Table of Contents",
   "title_sidebar": "Contents",
   "toc_cell": true,
   "toc_position": {},
   "toc_section_display": true,
   "toc_window_display": true
  }
 },
 "nbformat": 4,
 "nbformat_minor": 2
}

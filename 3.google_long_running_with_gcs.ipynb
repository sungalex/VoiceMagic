{
 "cells": [
  {
   "cell_type": "markdown",
   "metadata": {
    "toc": true
   },
   "source": [
    "<h1>Table of Contents<span class=\"tocSkip\"></span></h1>\n",
    "<div class=\"toc\"><ul class=\"toc-item\"><li><span><a href=\"#Google-Cloud-Speech-to-Text-API-Long_Running-example\" data-toc-modified-id=\"Google-Cloud-Speech-to-Text-API-Long_Running-example-1\">Google Cloud Speech-to-Text API Long_Running example</a></span></li></ul></div>"
   ]
  },
  {
   "cell_type": "markdown",
   "metadata": {},
   "source": [
    "# Google Cloud Speech-to-Text API Long_Running example"
   ]
  },
  {
   "cell_type": "markdown",
   "metadata": {},
   "source": [
    "- 긴 오디오 파일을 비동기 방식으로 처리하는 샘플\n",
    "- **오디오 파일은 Google Cloud Storage에 업로드 후 사용**\n",
    "- **오디오 파일 크기 제한은 없으나, 전체 파일을 모두 변환 후 응답을 받을 수 있음**\n",
    "- https://cloud.google.com/speech-to-text/docs/async-recognize\n",
    "- https://cloud.google.com/speech-to-text/docs/async-time-offsets\n",
    "- Google Cloud Storage 설정 방법 : https://cloud.google.com/storage/docs/quickstart-console"
   ]
  },
  {
   "cell_type": "code",
   "execution_count": 1,
   "metadata": {},
   "outputs": [],
   "source": [
    "\"\"\"Transcribe the given audio file asynchronously and output the word time offsets.\"\"\"\n",
    "from google.cloud import speech\n",
    "from google.cloud.speech import enums\n",
    "from google.cloud.speech import types\n",
    "\n",
    "client = speech.SpeechClient()\n",
    "\n",
    "# gcs_uri = \"gs://voice_magic_audio/경제청문회_4명인터뷰_YTN_16000.wav\"    # jupyter notebook에서 Cloud Storage 한글 파일명 인식 오류\n",
    "gcs_uri = \"gs://voice_magic_audio/economy_4_16000.wav\"\n",
    "\n",
    "audio = types.RecognitionAudio(uri=gcs_uri)\n",
    "config = types.RecognitionConfig(\n",
    "    encoding=enums.RecognitionConfig.AudioEncoding.LINEAR16,\n",
    "    sample_rate_hertz=16000,\n",
    "    language_code='ko-KR',\n",
    "    enable_automatic_punctuation=True,\n",
    "    enable_word_time_offsets=True)\n",
    "\n",
    "operation = client.long_running_recognize(config, audio)"
   ]
  },
  {
   "cell_type": "code",
   "execution_count": 2,
   "metadata": {},
   "outputs": [
    {
     "name": "stdout",
     "output_type": "stream",
     "text": [
      "Waiting for operation to complete...\n",
      "operation complete !!!\n"
     ]
    }
   ],
   "source": [
    "print('Waiting for operation to complete...')\n",
    "response = operation.result(timeout=360)\n",
    "print('operation complete !!!')"
   ]
  },
  {
   "cell_type": "code",
   "execution_count": 3,
   "metadata": {
    "scrolled": true
   },
   "outputs": [
    {
     "data": {
      "text/plain": [
       "google.cloud.speech_v1.types.LongRunningRecognizeResponse"
      ]
     },
     "execution_count": 3,
     "metadata": {},
     "output_type": "execute_result"
    }
   ],
   "source": [
    "type(response)"
   ]
  },
  {
   "cell_type": "code",
   "execution_count": 4,
   "metadata": {},
   "outputs": [
    {
     "data": {
      "text/plain": [
       "alternatives {\n",
       "  transcript: \"\\355\\225\\234\\352\\265\\255 \\353\\225\\205\\354\\235\\264 \\353\\202\\264 \\352\\261\\264 \\352\\262\\275\\354\\240\\234 \\354\\262\\255\\353\\254\\270\\355\\232\\214 \\354\\227\\254\\354\\225\\274 \\352\\260\\201 \\354\\240\\225\\353\\213\\271\\354\\235\\230 \\353\\260\\230\\354\\235\\221\\354\\235\\264 \\354\\227\\207\\352\\260\\210\\353\\246\\275\\353\\213\\210\\353\\213\\244. \\353\\257\\274\\354\\243\\274\\353\\213\\271\\352\\263\\274 \\353\\260\\224\\353\\245\\270\\353\\257\\270\\353\\236\\230\\353\\213\\271 \\354\\240\\225\\354\\235\\230\\353\\213\\271\\354\\235\\200 \\355\\225\\234\\352\\265\\255\\353\\213\\271\\354\\235\\264 \\354\\226\\265\\354\\247\\200\\353\\245\\274 \\353\\266\\200\\353\\246\\260\\353\\213\\244\\353\\212\\224 \\354\\236\\205\\354\\236\\245\\354\\235\\270 \\353\\260\\230\\353\\251\\264\\354\\227\\220 \\355\\225\\234\\352\\265\\255\\353\\213\\271\\352\\263\\274 \\353\\257\\274\\354\\243\\274\\355\\217\\211\\355\\231\\224\\353\\213\\271 \\353\\257\\274\\354\\243\\274\\353\\213\\271\\354\\235\\264 \\354\\262\\255\\353\\254\\270\\355\\232\\214\\353\\245\\274 \\353\\260\\233\\354\\225\\204\\354\\225\\274 \\355\\225\\234\\353\\213\\244\\352\\263\\240 \\354\\225\\225\\353\\260\\225\\355\\225\\251\\353\\213\\210\\353\\213\\244.\"\n",
       "  confidence: 0.8905602097511292\n",
       "  words {\n",
       "    start_time {\n",
       "      nanos: 300000000\n",
       "    }\n",
       "    end_time {\n",
       "      nanos: 900000000\n",
       "    }\n",
       "    word: \"\\355\\225\\234\\352\\265\\255\"\n",
       "  }\n",
       "  words {\n",
       "    start_time {\n",
       "      nanos: 900000000\n",
       "    }\n",
       "    end_time {\n",
       "      seconds: 1\n",
       "      nanos: 200000000\n",
       "    }\n",
       "    word: \"\\353\\225\\205\\354\\235\\264\"\n",
       "  }\n",
       "  words {\n",
       "    start_time {\n",
       "      seconds: 1\n",
       "      nanos: 200000000\n",
       "    }\n",
       "    end_time {\n",
       "      seconds: 1\n",
       "      nanos: 300000000\n",
       "    }\n",
       "    word: \"\\353\\202\\264\"\n",
       "  }\n",
       "  words {\n",
       "    start_time {\n",
       "      seconds: 1\n",
       "      nanos: 300000000\n",
       "    }\n",
       "    end_time {\n",
       "      seconds: 1\n",
       "      nanos: 600000000\n",
       "    }\n",
       "    word: \"\\352\\261\\264\"\n",
       "  }\n",
       "  words {\n",
       "    start_time {\n",
       "      seconds: 1\n",
       "      nanos: 600000000\n",
       "    }\n",
       "    end_time {\n",
       "      seconds: 2\n",
       "      nanos: 200000000\n",
       "    }\n",
       "    word: \"\\352\\262\\275\\354\\240\\234\"\n",
       "  }\n",
       "  words {\n",
       "    start_time {\n",
       "      seconds: 2\n",
       "      nanos: 200000000\n",
       "    }\n",
       "    end_time {\n",
       "      seconds: 2\n",
       "      nanos: 700000000\n",
       "    }\n",
       "    word: \"\\354\\262\\255\\353\\254\\270\\355\\232\\214\"\n",
       "  }\n",
       "  words {\n",
       "    start_time {\n",
       "      seconds: 2\n",
       "      nanos: 700000000\n",
       "    }\n",
       "    end_time {\n",
       "      seconds: 3\n",
       "      nanos: 300000000\n",
       "    }\n",
       "    word: \"\\354\\227\\254\\354\\225\\274\"\n",
       "  }\n",
       "  words {\n",
       "    start_time {\n",
       "      seconds: 3\n",
       "      nanos: 300000000\n",
       "    }\n",
       "    end_time {\n",
       "      seconds: 3\n",
       "      nanos: 500000000\n",
       "    }\n",
       "    word: \"\\352\\260\\201\"\n",
       "  }\n",
       "  words {\n",
       "    start_time {\n",
       "      seconds: 3\n",
       "      nanos: 500000000\n",
       "    }\n",
       "    end_time {\n",
       "      seconds: 4\n",
       "    }\n",
       "    word: \"\\354\\240\\225\\353\\213\\271\\354\\235\\230\"\n",
       "  }\n",
       "  words {\n",
       "    start_time {\n",
       "      seconds: 4\n",
       "    }\n",
       "    end_time {\n",
       "      seconds: 4\n",
       "      nanos: 400000000\n",
       "    }\n",
       "    word: \"\\353\\260\\230\\354\\235\\221\\354\\235\\264\"\n",
       "  }\n",
       "  words {\n",
       "    start_time {\n",
       "      seconds: 4\n",
       "      nanos: 400000000\n",
       "    }\n",
       "    end_time {\n",
       "      seconds: 4\n",
       "      nanos: 800000000\n",
       "    }\n",
       "    word: \"\\354\\227\\207\\352\\260\\210\\353\\246\\275\\353\\213\\210\\353\\213\\244\"\n",
       "  }\n",
       "  words {\n",
       "    start_time {\n",
       "      seconds: 4\n",
       "      nanos: 800000000\n",
       "    }\n",
       "    end_time {\n",
       "      seconds: 5\n",
       "      nanos: 700000000\n",
       "    }\n",
       "    word: \"\\353\\257\\274\\354\\243\\274\\353\\213\\271\\352\\263\\274\"\n",
       "  }\n",
       "  words {\n",
       "    start_time {\n",
       "      seconds: 5\n",
       "      nanos: 700000000\n",
       "    }\n",
       "    end_time {\n",
       "      seconds: 6\n",
       "      nanos: 400000000\n",
       "    }\n",
       "    word: \"\\353\\260\\224\\353\\245\\270\\353\\257\\270\\353\\236\\230\\353\\213\\271\"\n",
       "  }\n",
       "  words {\n",
       "    start_time {\n",
       "      seconds: 6\n",
       "      nanos: 400000000\n",
       "    }\n",
       "    end_time {\n",
       "      seconds: 7\n",
       "    }\n",
       "    word: \"\\354\\240\\225\\354\\235\\230\\353\\213\\271\\354\\235\\200\"\n",
       "  }\n",
       "  words {\n",
       "    start_time {\n",
       "      seconds: 7\n",
       "    }\n",
       "    end_time {\n",
       "      seconds: 7\n",
       "      nanos: 900000000\n",
       "    }\n",
       "    word: \"\\355\\225\\234\\352\\265\\255\\353\\213\\271\\354\\235\\264\"\n",
       "  }\n",
       "  words {\n",
       "    start_time {\n",
       "      seconds: 7\n",
       "      nanos: 900000000\n",
       "    }\n",
       "    end_time {\n",
       "      seconds: 8\n",
       "      nanos: 400000000\n",
       "    }\n",
       "    word: \"\\354\\226\\265\\354\\247\\200\\353\\245\\274\"\n",
       "  }\n",
       "  words {\n",
       "    start_time {\n",
       "      seconds: 8\n",
       "      nanos: 400000000\n",
       "    }\n",
       "    end_time {\n",
       "      seconds: 8\n",
       "      nanos: 800000000\n",
       "    }\n",
       "    word: \"\\353\\266\\200\\353\\246\\260\\353\\213\\244\\353\\212\\224\"\n",
       "  }\n",
       "  words {\n",
       "    start_time {\n",
       "      seconds: 8\n",
       "      nanos: 800000000\n",
       "    }\n",
       "    end_time {\n",
       "      seconds: 9\n",
       "      nanos: 200000000\n",
       "    }\n",
       "    word: \"\\354\\236\\205\\354\\236\\245\\354\\235\\270\"\n",
       "  }\n",
       "  words {\n",
       "    start_time {\n",
       "      seconds: 9\n",
       "      nanos: 200000000\n",
       "    }\n",
       "    end_time {\n",
       "      seconds: 9\n",
       "      nanos: 300000000\n",
       "    }\n",
       "    word: \"\\353\\260\\230\\353\\251\\264\"\n",
       "  }\n",
       "  words {\n",
       "    start_time {\n",
       "      seconds: 9\n",
       "      nanos: 300000000\n",
       "    }\n",
       "    end_time {\n",
       "      seconds: 9\n",
       "      nanos: 600000000\n",
       "    }\n",
       "    word: \"\\354\\227\\220\"\n",
       "  }\n",
       "  words {\n",
       "    start_time {\n",
       "      seconds: 9\n",
       "      nanos: 600000000\n",
       "    }\n",
       "    end_time {\n",
       "      seconds: 10\n",
       "      nanos: 900000000\n",
       "    }\n",
       "    word: \"\\355\\225\\234\\352\\265\\255\\353\\213\\271\\352\\263\\274\"\n",
       "  }\n",
       "  words {\n",
       "    start_time {\n",
       "      seconds: 10\n",
       "      nanos: 900000000\n",
       "    }\n",
       "    end_time {\n",
       "      seconds: 11\n",
       "      nanos: 700000000\n",
       "    }\n",
       "    word: \"\\353\\257\\274\\354\\243\\274\\355\\217\\211\\355\\231\\224\\353\\213\\271\"\n",
       "  }\n",
       "  words {\n",
       "    start_time {\n",
       "      seconds: 11\n",
       "      nanos: 700000000\n",
       "    }\n",
       "    end_time {\n",
       "      seconds: 12\n",
       "      nanos: 900000000\n",
       "    }\n",
       "    word: \"\\353\\257\\274\\354\\243\\274\\353\\213\\271\\354\\235\\264\"\n",
       "  }\n",
       "  words {\n",
       "    start_time {\n",
       "      seconds: 12\n",
       "      nanos: 900000000\n",
       "    }\n",
       "    end_time {\n",
       "      seconds: 13\n",
       "      nanos: 500000000\n",
       "    }\n",
       "    word: \"\\354\\262\\255\\353\\254\\270\\355\\232\\214\\353\\245\\274\"\n",
       "  }\n",
       "  words {\n",
       "    start_time {\n",
       "      seconds: 13\n",
       "      nanos: 500000000\n",
       "    }\n",
       "    end_time {\n",
       "      seconds: 14\n",
       "      nanos: 200000000\n",
       "    }\n",
       "    word: \"\\353\\260\\233\\354\\225\\204\\354\\225\\274\"\n",
       "  }\n",
       "  words {\n",
       "    start_time {\n",
       "      seconds: 14\n",
       "      nanos: 200000000\n",
       "    }\n",
       "    end_time {\n",
       "      seconds: 14\n",
       "      nanos: 500000000\n",
       "    }\n",
       "    word: \"\\355\\225\\234\\353\\213\\244\\352\\263\\240\"\n",
       "  }\n",
       "  words {\n",
       "    start_time {\n",
       "      seconds: 14\n",
       "      nanos: 500000000\n",
       "    }\n",
       "    end_time {\n",
       "      seconds: 15\n",
       "      nanos: 100000000\n",
       "    }\n",
       "    word: \"\\354\\225\\225\\353\\260\\225\\355\\225\\251\\353\\213\\210\\353\\213\\244\"\n",
       "  }\n",
       "}"
      ]
     },
     "execution_count": 4,
     "metadata": {},
     "output_type": "execute_result"
    }
   ],
   "source": [
    "response.results[0]"
   ]
  },
  {
   "cell_type": "code",
   "execution_count": 5,
   "metadata": {
    "scrolled": true
   },
   "outputs": [
    {
     "data": {
      "text/plain": [
       "'한국 땅이 내 건 경제 청문회 여야 각 정당의 반응이 엇갈립니다. 민주당과 바른미래당 정의당은 한국당이 억지를 부린다는 입장인 반면에 한국당과 민주평화당 민주당이 청문회를 받아야 한다고 압박합니다.'"
      ]
     },
     "execution_count": 5,
     "metadata": {},
     "output_type": "execute_result"
    }
   ],
   "source": [
    "response.results[0].alternatives[0].transcript"
   ]
  },
  {
   "cell_type": "code",
   "execution_count": 6,
   "metadata": {
    "scrolled": false
   },
   "outputs": [
    {
     "data": {
      "text/plain": [
       "0.8905602097511292"
      ]
     },
     "execution_count": 6,
     "metadata": {},
     "output_type": "execute_result"
    }
   ],
   "source": [
    "response.results[0].alternatives[0].confidence"
   ]
  },
  {
   "cell_type": "code",
   "execution_count": 7,
   "metadata": {
    "scrolled": false
   },
   "outputs": [
    {
     "name": "stdout",
     "output_type": "stream",
     "text": [
      "start_time: 0.30000000000000004\n"
     ]
    }
   ],
   "source": [
    "print(\"start_time:\", response.results[0].alternatives[0].words[0].start_time.seconds + \\\n",
    "      response.results[0].alternatives[0].words[0].start_time.nanos * 1e-9)"
   ]
  },
  {
   "cell_type": "code",
   "execution_count": 8,
   "metadata": {},
   "outputs": [
    {
     "name": "stdout",
     "output_type": "stream",
     "text": [
      "end_time: 15.000000015\n"
     ]
    }
   ],
   "source": [
    "print(\"end_time:\", response.results[0].alternatives[0].words[-1].end_time.seconds + \\\n",
    "     response.results[0].alternatives[0].words[-1].end_time.seconds * 1e-9)"
   ]
  },
  {
   "cell_type": "code",
   "execution_count": 9,
   "metadata": {
    "scrolled": false
   },
   "outputs": [
    {
     "name": "stdout",
     "output_type": "stream",
     "text": [
      "Transcript: 한국 땅이 내 건 경제 청문회 여야 각 정당의 반응이 엇갈립니다. 민주당과 바른미래당 정의당은 한국당이 억지를 부린다는 입장인 반면에 한국당과 민주평화당 민주당이 청문회를 받아야 한다고 압박합니다.\n",
      "Confidence: 0.8905602097511292\n",
      "start_time: 0.30000000000000004 ~ end_time: 15.1\n",
      "\n",
      "Transcript:  여론은 반대가 55%로 찬성 31%를 크게 앞지른 것으로 조사됐습니다. 반대 여론이 높은 경제청 문제를 내 건 한국 땅이 문제가 앞으로 정당 지지도 그러면 어떤 영향을 미칠지 궁금합니다. 숫자의 정치 더 결혼해서 YTN 뉴스 가의 실시한 여론조사 결과 분석하겠습니다. 이택수 리얼미터 대표 박지영 윈지코리아컨설팅 부대표 타기 하셨습니다. 안녕하십니까? 안녕하세요. 안녕하세요. 경제 청문회 관련한 조사 결과부터 다시 한번 정리를 하고 얘기를 이어가겠습니다. 함께 보시죠. 한국 사람이에요. 강경자 전구색. 응답자의 55.4% 반대하는 것으로 나타났습니다. 찬성은 30.9% 였고요. 모른다거나. 응답하지 않음 비율은 13.7% 뛰었습니다. 응답자를 지지정당 별로 나눠서 살펴보겠습니다. 민주당 짐승의 결제 또 가도 높았습니다. 응답자 중. 민주당 지지층에 85.9\n",
      "Confidence: 0.9124622344970703\n",
      "start_time: 16.7 ~ end_time: 76.6\n",
      "\n",
      "Transcript:  퍼센트는 반대했고 한국땅을 지지하는 응답자는 68.2%가 찬성하는 것으로 나타났습니다. 정치 성향 별로 나눠서 조사한 결과에서도 진보측의 반대 여론이 보수층의 찬성 여름보다 경고했습니다. 봉수 측에서의 반대 여론이 35.8%로 경제 청문회를 정치공세로 보는 시각도 포스팅에서도 적지 않아 중국 전체 여론 부도와 비슷했습니다. 정치 성향 결론은 중도층이 전체 여론과 비슷하다면 지역별로 나는 수도권과 충청권을 그랬습니다. 결과를 좀 봤습니다. 찬송 30.9% 반대 55.4% 대표님, 한국 땅에 이런 여러 오늘 예상 했을까요? 예상하지 못했을 것 같습니다. 일단 큰 틀에서의 결과는 55.4 돼. 30.9 예상가 크게 다르지 않은 듯 세부적으로 보면 이런 감정 보수층 일하는 중이라\n",
      "Confidence: 0.9186915755271912\n",
      "start_time: 76.6 ~ end_time: 136.6\n",
      "\n",
      "Transcript:  건지 아니면 한국당 데이트를 제외하고는 대부분의 계층에서 지금 반대하는 의견을 높게 나타났다. 민요. 그것은 제 2항에서 내세운 명분은 이게 진정성 있는 야, 그동안에 국회정상화 라든지 규정에 따른 무노동 무임금 국민소환제 여론이 굉장히 안 좋아 썼거든요. 그렇기 때문에 결국에는이 수조차도 부케를 지금 정사 하는데 우리도 이제 그 반대일 요소로 작용할 키 규현 어떤 실띄우기 아니야? 이렇게 본 계층들이 많았던 거 같아요. 그래서 다양성이 예상치 못한 세부적인 그런 결혼 응. 닭들이 낳은 같습니다. 항상 입장에서는 다른 것보다 보수층 내에서 35.8% 나 반대를 하고 있는이 부분이 좀 아팠을 것 같습니다. 2층에서 콩이 뜨겁지 않다. 평가할 수 있을 것 같은데 지금 국기에 공전 사태가 벌써 두달이 넘어갔지 않습니까?\n",
      "Confidence: 0.9129237532615662\n",
      "start_time: 136.6 ~ end_time: 194.9\n",
      "\n",
      "Transcript:  비판 여론이 경제 따갑습니다. 한국당 쪽에 초점이 좀 써 가지고 있거든요. 비판 여론이 그러다 보니까 이걸 처음부터 너를 좀 국회정상화 조건으로이 문제를 경기 청문회를 내 걸었으면 한국 땅이 진정성이란 며느리 평가 해 줄 수도 있겠지만 그렇지 않았거든요. 처음에는 패스트 트랙이에 대한 어떤 철야? 사과 이런 거에 집중 되다가 갑자기 인제 협상이 잘 안 되니까 거기에 이제 더 얹혀서 이경제 청문회까지 들고 나왔거든. 그러다 보니까 이게 진정선 있기보다는 시간 끌기 용 지연전술의 일환으로 정치공세에 일환으로이 문제를 들고 나온게 아닌가 그렇게 받아들이는 거야. 그러면 계속 그의 주장을 이어가면서 여러 지역에서 나빠지지 않겠습니까? 저는 만약에 오늘 이제 그 바른미래당 의원 총회 다 하고 민주당도 현충일 하는데 여야 사당이 협의를 해서 세계 국기 문을 연다. 한국 돈 반대한다 많으니 국면이 지속되면 지속될수록\n",
      "Confidence: 0.9110718369483948\n",
      "start_time: 196.6 ~ end_time: 256.1\n",
      "\n",
      "Transcript:  좀 더 고립될 거고 국민들의 평가는 더 냉담해 질거다. 저는 그 한국당한테 분리할 것이다. 이렇게 보여짐. 이런 상황에서 여권 양보할 가능성은 어느정도 있다고 여론 자체가 항상 좀 불량한 형태로 나타나고 있기 때문에 뭐 이런 거 개문발차라고 한국땅을 이제 배제하고 다른 정성 들이는데 국회를 여는 것에 대해서 또 자신감을 가질 수 있는 결과들이 나오고 있는 거 같습니다. 그럼 차원에서는 좀 불리한 그런 식으로 아니었으면 그동안 국회 공전이 장기화됨에 왔고 아직도 결론이 안 나왔습니다. 이런 상황 속에서 정당 지지도 어떻게 나타났는지 확인해 보겠습니다. 6월 2주차 정당 지지도를 보면 더불어민주당이 0.5% 포인트 전주보다 상승해서 41퍼센트를 나타났구요. 자유한국당도 소풍 올랐습니다. 31% 2 정당간 지지율 격차는\n",
      "Confidence: 0.9099278450012207\n",
      "start_time: 256.5 ~ end_time: 316.5\n",
      "\n",
      "Transcript:  10% 포인트 차이를 유지했습니다. 정의당과 바른미래당 작은 변화가 있었습니다. 그리고 민주평화당도 비슷한 수준을 유지해 했고요. 무당층이 소폭 줄어든 것이 눈에 들어옵니다. 한국 땅이 오히려 올랐습니다. 왜그런거죠? 이거는 뭐 일주일 간격으로 보기보다는데 좀 거시적으로 볼 필요가 있는데 저는 이제 그 장외투쟁 직전과 지금 한 두 달 동안 여론의 쥐가 어떻게 변했는지 그 점을 좀 살펴 볼 필요가 있다고 그런데 이게 그 가장 그 점을 찍을 때가 30% 정도 찍었고요. 민주당이 낮을 때가 안 37% 수준까지 떨어졌었습니다. 그래서 그 당시 4% 포인트 격차까지 준비중인 적이 있었거든요. 그래프의 나오네요. 그렇습니다. 38 34.3 4.4% 포인트까지 좁혀져 쓰는데 이게 지금 격차가 10일 10% 포인트 차로 다신 벌어져 없거든요. 결국은 장외투쟁\n",
      "Confidence: 0.9129298329353333\n",
      "start_time: 316.5 ~ end_time: 375.9\n",
      "\n",
      "Transcript:  동전 사태가 길어지면서 한국 땅으로 향했던 관심이 좀 뚝 떨어졌다. 그래서 중도층의 섭이 호감도가 높아지면서 황교안 쪽에서 말씀하셨던 중원 전략 이른바 중도층을 잡겠다이 전략이 지금 잘 통하지 않는 그런 상황이 아닌가 싶습니다. 열릴 경우에 영어로는 어떻게 움직일까? 말씀드렸듯이 한국 땅이 고립되면 아직도 게임이 많이 결집되어 있거든요. 30% 안방으로 도승이 집토끼 확실히 결집되어 있는데 중도층 외면하기 시작하면요. 한국 땅이야. 동요 하게 되었습니다. 어, 이러다가 집권하기 어렵게 되겠는데라는 의구심이 형성될 수 있거든요. 그렇기 때문에 지금은 황교안 대표께서 통큰 결단을 좀 해야 시점이 아닌 예, 여론조사기관 걸로 보면은 한국 땅이지 지도가 리얼미터 조사하면 제 30% 30% 만 밖으로 그리고 다른데 보면은 20% 두 번째로 나오게 해.\n",
      "Confidence: 0.9156249761581421\n",
      "start_time: 376.5 ~ end_time: 436.4\n",
      "\n",
      "Transcript:  크게 보면 아, 역시 퍼센트 포인트 차이가 나는데 그게 약 지지층이 리얼미터 조사 방식으로 많이 드러나기 때문에 들어 있지만 지금 밥도 대표 님 말씀대로 한국 땅이 흔들리고 중도층의 지지를 받지 못하면 20% 포인트 정도가 훅하고 움직이고 있다는 거지요. 그 수면제 지난 주간 일주일 일요일 날 보게 되면은 이제 주 초중반까지는 느낌은 봉사원 놀란 이라던지 또 민경욱 대변인 막말 논란 하셨습니다. 그때까지는 사실을 오히려 자신의 길을 가르쳐 잘랐던 있었는데 후반에 인제 기억하겠습니다. 많이 환영위원회 인제 의원직 상실형 그다음에 홍문종 의원 이인제 탈당 식사하면서 돼. 1회부터 공동대표로 언제 간다는 소식이 없어. 근데 비가 오던데 분열하고 산토끼를 떠나가는 한국이 지금 될 가능성이 있기 때문에 이번 주 약간 좀 늦었습니다. 바른미래당 또 몰랐거든요. 한국당.\n",
      "Confidence: 0.9006178379058838\n",
      "start_time: 436.5 ~ end_time: 496.3\n",
      "\n",
      "Transcript:  답장을 못 하면 학교 바른미래당으로 갈 가능성이 충분히 있기 때문에 한국 땅으로 쓰는 좀 지금 상황이 오히려 기회요인 보다는 위기론이 좀 더 큰 상황이 아닌가 싶습니다. 지금 단독 국회인턴 단독이란 표현은 그렇습니다만 한국땅을 배제한 여야 사당이 국회를 여는 그런 상황이 한국 땅에 정도 분리할 거라고 하셨잖아요. 혹시 역풍이 불어서 한국 땅이 반사이익이 받을 가능성은 전혀 없을까요? 이게 지금 누가 보더라도 기다릴만큼 기다려. 인형 보이거든요. 이게 만약에 장외투쟁 후에 맡길 이런 사당이 국회 단독 북해 뭐 빼고 이렇게 누르면다면 용품이 있을 가능성도 있지만 버스 언제 두 다리 넘고 넘어가 때문에 국민들이 볼 때는 빨리 문을 열어라. 상임이 이제부터라도 빨리 시작해라. 이런 어떤 요가 크기 때문에 저는 역풍이 불가능성 그렇게 크지 않다. 이렇게 안 열고 사실상 다행이예요. 된다면\n",
      "Confidence: 0.9233013391494751\n",
      "start_time: 496.4 ~ end_time: 555.6\n",
      "\n",
      "Transcript:  아마 추경에서 압박에 국민적 압박이 더 거세질 겁니다. 문을 열었는데 일을 않았나? 용납 하겠습니까? 국민은 국민들이 지금은 시간이 한국당 편이 아니다. 이것을 빨리 깨닫는게 중요하다 알겠습니다. 대통령 국정 수행에 대한 평가도 확인해보죠. 6월 두 번째 문재인 대통령 국정 수행 평가 긍정 평가가 전주보다 1.5% 포인트 상승해서 49.5% 절반수준에 육박했습니다. 그리고 부정평가 또 소폭 하락 했습니다. 45.4%로 흥부전 격차가 4.1% 포인트네요이 대표님, 이번 주 오차범위가 플러스 마이너스 3% 4% 5% 벌어졌으면 그렇습니다. 최근 들어서는 오차범위를 경계선을 넘나드는 지지를 보이다가\n",
      "Confidence: 0.9168334603309631\n",
      "start_time: 556.4 ~ end_time: 616.1\n",
      "\n",
      "Transcript:  이번 주는 긍정 평가가 이제 많이 앞쪽이 시작했는데요. 유럽 순방 효과가 있었습니다. 근데 그 다음에 이희호 여사 관제사 회장을 쳤는데 북한에서 이제 추모 조임은 거죠? 아, 아까 잔다리로 했죠. 문재인 대통령이 6월중에 남북정사회담 가능성도 관련된 보도관제 오졌구요. 그러면서 문재인 대통령님이 높아졌는데 좀 그 세 번 해서 몸이 5월 첫째 주부터 매우 잘 한다라는 의견이 자란다는 잘하는 편보다 높아졌습니다지나 5월초부터 그렇게 됐는데요. 이게 인제 국회단지 폭력사태로 그다음에 한국당 의원들 막말 이어지면서 어떻게 보는지에 문재인 대통령 정통성에 11번은 속도를 들었던 그 계층들이 다시 연습하는 모습 그동안은 굉장히 오랫동안 잘 하는 편이에요 봤습니다. 구정 평가는 매우 잘 못 한다는 의견이 높아서 그래. 근데 그 같은 48% 퍼센트 짐은\n",
      "Confidence: 0.9008619785308838\n",
      "start_time: 616.4 ~ end_time: 675.9\n",
      "\n",
      "Transcript:  잘 한다는 것이 승이 아주 결집하고 있다. 이런 경향성이 발견이 되면서 오차범위를 없는 근접효과 나타난 것은 저는 이번에 그 격벽과 소폭이지만 올랐던 이유 중에 가장 큰 이유를 순방 외교성과 녹음이 돼. 왜냐하면 민경욱 대변인 한국당대변인 길이라는 발원했습니다. 논란이 좀 됐습니다. 순방에 교회에 대해서 1분 이제 신문에서 또 비판론 떠났습니다. 일하다 보니까 국민들이 그 대통령 순방에 대해서 좀 깊이 들여다보는 계기가 되었던 것은 과연 어떻게 하고 있지라고 관심을 귤 했는데 오슬로 선언을 하면서 평화를 도광제 했고요. 거기에 머물지 않고 스타트업에 대한 생태계를 광주 한다든가 부산 헬싱키 직항노선 그다음에 이제 그 제약사의 투자를 유치하고 이런 경쟁 거를 같이 하셨거든요. 이런 것들이 국민들 눈에 신선하게 보였다. 하나 있고요. 그리고 u-20 월드컵 우리 그 어린\n",
      "Confidence: 0.9179660081863403\n",
      "start_time: 676.3 ~ end_time: 736.2\n",
      "\n",
      "Transcript:  우리 축구 대표 축구 대표팀의 삼선 이것도 또 영향을 미쳤고요. 국회가 마비 중이지만 나름대로 정부하고 그당이 일을 하고 있다. 당정협의를 통해서 뭔가 일을 하고 있다. 이미지를 좀 준 측면도 있습니다. 이제 구미와 밀양에 상생형 일자리 강조 했고요. 2장 통장 그대 그리고 큰 사병들을 월급 급여 이런 것들이 좀 인상하면서 뭔가 부캐는 좀 꽉 막혀 있지만 정부 여당이 좀 일을 하고 있구나이라는 어떤 성당 이미지이라는 세력 이미지를 좀 준게 아닌가 그런 사람이 강기정 정무수석과 북경 정무비서관 에바로온 관련해서는 여론이 어떤 평가를 내렸다. 옷이 그게 그 영향을 미치지 않은 거 같아. 왜냐면 이게 국회청원에 대한 답변 성격이 하나 있었잖아. 뜬금없이 나오는 것은 아니거든. 부개동 올라가고 나 보니까 정호 수학 오정묵 비서가 아니 답변할 수 밖에 없을 거 답변했고 두 번째는 나경원 원내대표 발언이 좀 못 했다는 측면 신한 첫 번째는 청와대에 깨지 마라.\n",
      "Confidence: 0.7452545166015625\n",
      "start_time: 736.3 ~ end_time: 796.2\n",
      "\n",
      "Transcript:  맞아라. 뒤로 그런 얘기를 했다가 오늘도 본인한테 연락이 없다. 전화 한 통 왔다. 이런 얘기를 했는데 청와대가 유명한 걸 보면 원내수석부대표 같아. 연락을 했다. 정향수 그리고 이현승 그 당대표 비서실장 한테도 수시로 이야기했다. 이런 얘기들이 나오고 나왔기 때문에 그 내부에 소통이 문제가 아니야. 한국당 내부의 일어났던 반박도 충분히 가능 했거든요. 하다 보니까 어떤 청와대에서 이런 민감한 바람 한 것이 된다. 결혼의 불리하게 작용할 것 같진 않습니다. 보는 것이이 강기정 추석에 대한 바로는 선관위에서 문제가 없다고 이제 해명을 대중적이 됐고 두 번째 국민소환제 여론조사에서 70% 이상이 소환 해야 된다는 찬성의견 높았기 때문에이 두산은 당첨의 유리하게 작용했다고 봐야 될 것 같은데 참고로 강기정 정무수석은 정당해산청구 아, 관련해서 선거에서 내내 표로 유권자가 판단을 몫이라고 했고 국민소환제에 대한\n",
      "Confidence: 0.9213808178901672\n",
      "start_time: 796.3 ~ end_time: 856.0\n",
      "\n",
      "Transcript:  민정원에 대한 답변을 선곡표 비서관이 국회에서 가야 된다. 이게 돼야 된다는 그런 얘기를 줘. 이번 주에는 정치권 대통령의 국정 수행 평가 그다음에 정당 지지도 어떤 부분이 가장 영향을 미칠까요? 윤성열 총장후보 자르기용 하지 않았습니까이 부분이 여론의 가장 크게 영향을 미칠 것 같아. 어느 방향으로 저는 좀 긍정적으로 며칠까지 왜냐면 검찰 개혁에 대한 국민적 요가 높고 일본 이제 칼잡이로 유명하지 않습니까? 권력형비리 문제에 대해서 당하게 되어 있기 때문에 대통령의 어떤 검찰 뮤직 이런 것들을 국민들이 눈여겨 볼거다. 이렇게 생각이 들고요. 두 번째는 국회정상화 관련해서 개문발차 할 거냐? 이게 세 번째는 그 제조업르네상스 이와 관련해서 규제혁파 이런 부분들이 수요일 날 발표 할 것 같은데요. 정부에서 이게 영향 어떻게 미칠지? 또 언제 부정적인 것은 인천지역에서 계속 지금 불금 수돗물이나 오고 있구만 28일\n",
      "Confidence: 0.910012423992157\n",
      "start_time: 856.2 ~ end_time: 916.2\n",
      "\n",
      "Transcript:  지나고 있습니다. 장기화되고 있는데 예단 여름이 안 좋습니다. 이래서 이것이 수도권에 어떻게 미칠지 이런 것들이 대표께서 간단하게 윤석열 그 검찰총장 형이 지금 바쁘다. 대표님처럼네. 긍정적인 여름을 만들어낼지. 영향을 미칠 것 같은데요. 형님, 권경수 할 거니 갈 뜨는데 계속 믿고 있지만 경찰 보다는 검찰에 대한 불신이 여론조사 해 보면 그 동안에 나타났던 좀 결국 검찰 내부 신화 싶었기 때문에 거기에 대한게. 여기 요구는 높은 편입니다. 그래서 그런 부분을 알고 있었기 때문에 일부 또 이명에 좋은 영향을 미친 것이 아닌가 싶습니다. 알겠습니다. 10까지 듣겠습니다. 고맙습니다. 감사합니다.\n",
      "Confidence: 0.898868203163147\n",
      "start_time: 916.2 ~ end_time: 966.7\n",
      "\n"
     ]
    }
   ],
   "source": [
    "for result in response.results:\n",
    "    alternative = result.alternatives[0]\n",
    "    print(u'Transcript: {}'.format(alternative.transcript))\n",
    "    print('Confidence: {}'.format(alternative.confidence))\n",
    "\n",
    "    start_time = alternative.words[0].start_time\n",
    "    end_time = alternative.words[-1].end_time\n",
    "    print('start_time: {} ~ end_time: {}'.format(start_time.seconds + start_time.nanos * 1e-9, \\\n",
    "            end_time.seconds + end_time.nanos * 1e-9))\n",
    "    print()"
   ]
  },
  {
   "cell_type": "code",
   "execution_count": 10,
   "metadata": {},
   "outputs": [],
   "source": [
    "# CSV 파일로 저장\n",
    "import csv\n",
    "\n",
    "with open('경제청문회_4명인터뷰_Transcribe.csv', 'w', encoding='utf-8', newline='') as f:\n",
    "    wr = csv.writer(f)\n",
    "    wr.writerow([\"start_time\", \"end_time\", \"transcript\"])\n",
    "    for result in response.results:\n",
    "        alternative = result.alternatives[0]\n",
    "        start_time = alternative.words[0].start_time.seconds + alternative.words[0].start_time.nanos * 1e-9\n",
    "        end_time = alternative.words[-1].end_time.seconds + alternative.words[-1].end_time.nanos * 1e-9\n",
    "        wr.writerow([start_time, end_time, alternative.transcript])"
   ]
  },
  {
   "cell_type": "code",
   "execution_count": 11,
   "metadata": {},
   "outputs": [],
   "source": [
    "# 스크립트 만 Text 파일로 저장\n",
    "with open('경제청문회_4명인터뷰_Transcribe.txt', 'w', encoding='utf-8', newline='') as f:\n",
    "    for result in response.results:\n",
    "        alternative = result.alternatives[0]\n",
    "        f.write(alternative.transcript + \" \")"
   ]
  },
  {
   "cell_type": "code",
   "execution_count": null,
   "metadata": {},
   "outputs": [],
   "source": []
  }
 ],
 "metadata": {
  "kernelspec": {
   "display_name": "Python 3",
   "language": "python",
   "name": "python3"
  },
  "language_info": {
   "codemirror_mode": {
    "name": "ipython",
    "version": 3
   },
   "file_extension": ".py",
   "mimetype": "text/x-python",
   "name": "python",
   "nbconvert_exporter": "python",
   "pygments_lexer": "ipython3",
   "version": "3.7.1"
  },
  "latex_envs": {
   "LaTeX_envs_menu_present": true,
   "autoclose": false,
   "autocomplete": true,
   "bibliofile": "biblio.bib",
   "cite_by": "apalike",
   "current_citInitial": 1,
   "eqLabelWithNumbers": true,
   "eqNumInitial": 1,
   "hotkeys": {
    "equation": "Ctrl-E",
    "itemize": "Ctrl-I"
   },
   "labels_anchors": false,
   "latex_user_defs": false,
   "report_style_numbering": false,
   "user_envs_cfg": false
  },
  "toc": {
   "base_numbering": 1,
   "nav_menu": {},
   "number_sections": false,
   "sideBar": true,
   "skip_h1_title": false,
   "title_cell": "Table of Contents",
   "title_sidebar": "Contents",
   "toc_cell": true,
   "toc_position": {},
   "toc_section_display": true,
   "toc_window_display": false
  }
 },
 "nbformat": 4,
 "nbformat_minor": 2
}

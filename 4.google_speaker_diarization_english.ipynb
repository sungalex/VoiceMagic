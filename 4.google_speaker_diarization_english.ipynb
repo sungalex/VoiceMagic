{
 "cells": [
  {
   "cell_type": "markdown",
   "metadata": {
    "toc": true
   },
   "source": [
    "<h1>Table of Contents<span class=\"tocSkip\"></span></h1>\n",
    "<div class=\"toc\"><ul class=\"toc-item\"><li><span><a href=\"#Google-Cloud-Speech-to-Text-API-speaker_diarization-(English-only)\" data-toc-modified-id=\"Google-Cloud-Speech-to-Text-API-speaker_diarization-(English-only)-1\">Google Cloud Speech-to-Text API speaker_diarization (English only)</a></span></li></ul></div>"
   ]
  },
  {
   "cell_type": "markdown",
   "metadata": {},
   "source": [
    "# Google Cloud Speech-to-Text API speaker_diarization (English only)"
   ]
  },
  {
   "cell_type": "markdown",
   "metadata": {},
   "source": [
    "- Google Cloud Speech-to-Text API는 en-US, en-IN, es-ES 언어의 화자 분할을 지원합니다. (**한국어 미지원**)\n",
    "- https://cloud.google.com/speech-to-text/docs/multiple-voices\n",
    "- 화자 분리 API는 베타 버전 입니다.\n",
    "- google.cloud.**speech_v1p1beta1**.SpeechClient().streaming_recognize(streaming_config, requests)"
   ]
  },
  {
   "cell_type": "code",
   "execution_count": 1,
   "metadata": {},
   "outputs": [],
   "source": [
    "import io\n",
    "import os\n",
    "\n",
    "from google.cloud import speech_v1p1beta1 as speech\n",
    "\n",
    "client = speech.SpeechClient()\n",
    "\n",
    "stream_file = os.path.join(os.getcwd(), 'audio_file', 'commercial_mono.wav')\n",
    "\n",
    "with io.open(stream_file, 'rb') as audio_file:\n",
    "        content = audio_file.read()\n",
    "\n",
    "# In practice, stream should be a generator yielding chunks of audio data.\n",
    "stream = [content]\n",
    "\n",
    "requests = (speech.types.StreamingRecognizeRequest(audio_content=chunk)\n",
    "            for chunk in stream)\n",
    "\n",
    "config = speech.types.RecognitionConfig(\n",
    "    encoding=speech.enums.RecognitionConfig.AudioEncoding.LINEAR16,\n",
    "    sample_rate_hertz=8000,\n",
    "    language_code='en-US',\n",
    "    enable_speaker_diarization=True,\n",
    "    diarization_speaker_count=2,\n",
    "    enable_automatic_punctuation=True,\n",
    "    enable_word_time_offsets=True,\n",
    "    model='default')\n",
    "\n",
    "streaming_config = speech.types.StreamingRecognitionConfig(config=config)\n",
    "\n",
    "# streaming_recognize returns a generator.\n",
    "responses = client.streaming_recognize(streaming_config, requests)"
   ]
  },
  {
   "cell_type": "code",
   "execution_count": 2,
   "metadata": {},
   "outputs": [
    {
     "data": {
      "text/plain": [
       "google.api_core.grpc_helpers._StreamingResponseIterator"
      ]
     },
     "execution_count": 2,
     "metadata": {},
     "output_type": "execute_result"
    }
   ],
   "source": [
    "type(responses)"
   ]
  },
  {
   "cell_type": "code",
   "execution_count": 3,
   "metadata": {},
   "outputs": [
    {
     "name": "stdout",
     "output_type": "stream",
     "text": [
      "Finished: True\n",
      "Stability: 0.0\n",
      "Confidence: 0.9251322746276855\n",
      "Transcript: Okay, I'm here.\n",
      "Speaker:(누적) 2 2 2 \n",
      "Finished: True\n",
      "Stability: 0.0\n",
      "Confidence: 0.9856593608856201\n",
      "Transcript:  Hi, I'd like to buy a Chromecast and I was wondering whether you could help me with that.\n",
      "Speaker:(누적) 1 1 1 2 2 2 2 2 2 2 2 2 2 2 2 2 2 2 2 1 1 \n",
      "Finished: True\n",
      "Stability: 0.0\n",
      "Confidence: 0.9087250232696533\n",
      "Transcript:  Sicily which color would you like we have blue black and red?\n",
      "Speaker:(누적) 1 1 1 2 2 2 2 2 2 2 2 2 2 2 2 2 2 2 2 1 1 1 1 1 1 1 1 1 1 1 1 1 2 \n",
      "Finished: True\n",
      "Stability: 0.0\n",
      "Confidence: 0.9783868789672852\n",
      "Transcript:  Let's get the black one.\n",
      "Speaker:(누적) 1 1 1 2 2 2 2 2 2 2 2 2 2 2 2 2 2 2 2 1 1 1 1 1 1 1 1 1 1 1 1 1 2 2 2 2 2 2 \n",
      "Finished: True\n",
      "Stability: 0.0\n",
      "Confidence: 0.9030610918998718\n",
      "Transcript:  Okay, great. Would you like the new Chromecast Ultra model or the regular compass?\n",
      "Speaker:(누적) 1 1 1 2 2 2 2 2 2 2 2 2 2 2 2 2 2 2 2 1 1 1 1 1 1 1 1 1 1 1 1 1 2 2 2 2 2 2 1 1 1 1 1 1 1 1 1 1 1 1 1 2 \n",
      "Finished: True\n",
      "Stability: 0.0\n",
      "Confidence: 0.8951566815376282\n",
      "Transcript:  Regular Chromecast is fine.\n",
      "Speaker:(누적) 1 1 1 2 2 2 2 2 2 2 2 2 2 2 2 2 2 2 2 1 1 1 1 1 1 1 1 1 1 1 1 1 2 2 2 2 2 2 1 1 1 1 1 1 1 1 1 1 1 1 1 2 2 2 2 1 \n",
      "Finished: True\n",
      "Stability: 0.0\n",
      "Confidence: 0.9326030611991882\n",
      "Transcript:  Okay. Sure. Would you like to ship it regular or Express?\n",
      "Speaker:(누적) 1 1 1 2 2 2 2 2 2 2 2 2 2 2 2 2 2 2 2 1 1 1 1 1 1 1 1 1 1 1 1 1 2 2 2 2 2 2 1 1 1 1 1 1 1 1 1 1 1 1 1 2 2 2 2 1 1 1 1 1 1 1 1 1 1 1 2 \n",
      "Finished: True\n",
      "Stability: 0.0\n",
      "Confidence: 0.9459167122840881\n",
      "Transcript:  Express, please.\n",
      "Speaker:(누적) 1 1 1 2 2 2 2 2 2 2 2 2 2 2 2 2 2 2 2 1 1 1 1 1 1 1 1 1 1 1 1 1 2 2 2 2 2 2 1 1 1 1 1 1 1 1 1 1 1 1 1 2 2 2 2 1 1 1 1 1 1 1 1 1 1 1 2 2 2 \n",
      "Finished: True\n",
      "Stability: 0.0\n",
      "Confidence: 0.938459038734436\n",
      "Transcript:  Terrific. It's on the way. Thank you very much.\n",
      "Speaker:(누적) 1 1 1 2 2 2 2 2 2 2 2 2 2 2 2 2 2 2 2 1 1 1 1 1 1 1 1 1 1 1 1 1 2 2 2 2 2 2 1 1 1 1 1 1 1 1 1 1 1 1 1 2 2 2 2 1 1 1 1 1 1 1 1 1 1 1 2 2 2 1 1 1 1 1 1 1 1 1 \n"
     ]
    }
   ],
   "source": [
    "for response in responses:\n",
    "    # Once the transcription has settled, the first result will contain the is_final result. \n",
    "    # The other results will be for subsequent portions of the audio.\n",
    "\n",
    "    for result in response.results:\n",
    "        print('Finished: {}'.format(result.is_final))\n",
    "        print('Stability: {}'.format(result.stability))\n",
    "        alternatives = result.alternatives\n",
    "        # The alternatives are ordered from most likely to least.\n",
    "        for alternative in alternatives:\n",
    "            print('Confidence: {}'.format(alternative.confidence))\n",
    "            print(u'Transcript: {}'.format(alternative.transcript))\n",
    "            \n",
    "            print('Speaker:(누적)', end=\" \")\n",
    "            for words in alternative.words:\n",
    "                print(words.speaker_tag, end=\" \")\n",
    "            print()"
   ]
  },
  {
   "cell_type": "code",
   "execution_count": null,
   "metadata": {},
   "outputs": [],
   "source": []
  }
 ],
 "metadata": {
  "kernelspec": {
   "display_name": "Python 3",
   "language": "python",
   "name": "python3"
  },
  "language_info": {
   "codemirror_mode": {
    "name": "ipython",
    "version": 3
   },
   "file_extension": ".py",
   "mimetype": "text/x-python",
   "name": "python",
   "nbconvert_exporter": "python",
   "pygments_lexer": "ipython3",
   "version": "3.7.1"
  },
  "latex_envs": {
   "LaTeX_envs_menu_present": true,
   "autoclose": false,
   "autocomplete": true,
   "bibliofile": "biblio.bib",
   "cite_by": "apalike",
   "current_citInitial": 1,
   "eqLabelWithNumbers": true,
   "eqNumInitial": 1,
   "hotkeys": {
    "equation": "Ctrl-E",
    "itemize": "Ctrl-I"
   },
   "labels_anchors": false,
   "latex_user_defs": false,
   "report_style_numbering": false,
   "user_envs_cfg": false
  },
  "toc": {
   "base_numbering": 1,
   "nav_menu": {},
   "number_sections": false,
   "sideBar": true,
   "skip_h1_title": false,
   "title_cell": "Table of Contents",
   "title_sidebar": "Contents",
   "toc_cell": true,
   "toc_position": {},
   "toc_section_display": true,
   "toc_window_display": false
  }
 },
 "nbformat": 4,
 "nbformat_minor": 2
}
